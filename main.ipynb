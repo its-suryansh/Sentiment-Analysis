{
 "cells": [
  {
   "cell_type": "markdown",
   "id": "7e9b672c",
   "metadata": {},
   "source": [
    "STEP.1"
   ]
  },
  {
   "cell_type": "markdown",
   "id": "680ff1d9",
   "metadata": {},
   "source": [
    "Import necessary packages:"
   ]
  },
  {
   "cell_type": "code",
   "execution_count": 256,
   "id": "fb6d1a90",
   "metadata": {},
   "outputs": [],
   "source": [
    "# Importing Pandas Package/Library.\n",
    "import pandas as pd\n",
    "# Importing Numpy Package/Library.\n",
    "import numpy as np\n",
    "# Importing String.\n",
    "import string\n",
    "# Importing Regular Expression.\n",
    "import re\n",
    "# Importing Counter Vectorizer.\n",
    "from sklearn.feature_extraction.text import CountVectorizer\n",
    "# Importing Matplot Library.\n",
    "import matplotlib.pyplot as plt\n",
    "# Importing Multinomial NB package (Algorithm Technique)\n",
    "from sklearn.naive_bayes import MultinomialNB \n",
    "# Importing Logistic Regression package (Algorithm Technique)\n",
    "from sklearn.linear_model import LogisticRegression\n",
    "from sklearn.metrics import recall_score,accuracy_score,precision_score"
   ]
  },
  {
   "cell_type": "markdown",
   "id": "1c0f9321",
   "metadata": {},
   "source": [
    "STEP.2"
   ]
  },
  {
   "cell_type": "markdown",
   "id": "aef8134c",
   "metadata": {},
   "source": [
    "Import the data set:"
   ]
  },
  {
   "cell_type": "code",
   "execution_count": 265,
   "id": "cbc26317",
   "metadata": {},
   "outputs": [],
   "source": [
    "DataFrame=pd.read_csv('Restaurant_Reviews.txt',delimiter='\\t')"
   ]
  },
  {
   "cell_type": "code",
   "execution_count": 266,
   "id": "7ae6d7e8",
   "metadata": {},
   "outputs": [
    {
     "data": {
      "text/plain": [
       "(1000, 2)"
      ]
     },
     "execution_count": 266,
     "metadata": {},
     "output_type": "execute_result"
    }
   ],
   "source": [
    "DataFrame.shape"
   ]
  },
  {
   "cell_type": "code",
   "execution_count": 267,
   "id": "0192e27a",
   "metadata": {},
   "outputs": [
    {
     "data": {
      "text/html": [
       "<div>\n",
       "<style scoped>\n",
       "    .dataframe tbody tr th:only-of-type {\n",
       "        vertical-align: middle;\n",
       "    }\n",
       "\n",
       "    .dataframe tbody tr th {\n",
       "        vertical-align: top;\n",
       "    }\n",
       "\n",
       "    .dataframe thead th {\n",
       "        text-align: right;\n",
       "    }\n",
       "</style>\n",
       "<table border=\"1\" class=\"dataframe\">\n",
       "  <thead>\n",
       "    <tr style=\"text-align: right;\">\n",
       "      <th></th>\n",
       "      <th>Review</th>\n",
       "      <th>Liked</th>\n",
       "    </tr>\n",
       "  </thead>\n",
       "  <tbody>\n",
       "    <tr>\n",
       "      <th>0</th>\n",
       "      <td>Wow... Loved this place.</td>\n",
       "      <td>1</td>\n",
       "    </tr>\n",
       "    <tr>\n",
       "      <th>1</th>\n",
       "      <td>Crust is not good.</td>\n",
       "      <td>0</td>\n",
       "    </tr>\n",
       "    <tr>\n",
       "      <th>2</th>\n",
       "      <td>Not tasty and the texture was just nasty.</td>\n",
       "      <td>0</td>\n",
       "    </tr>\n",
       "    <tr>\n",
       "      <th>3</th>\n",
       "      <td>Stopped by during the late May bank holiday of...</td>\n",
       "      <td>1</td>\n",
       "    </tr>\n",
       "    <tr>\n",
       "      <th>4</th>\n",
       "      <td>The selection on the menu was great and so wer...</td>\n",
       "      <td>1</td>\n",
       "    </tr>\n",
       "    <tr>\n",
       "      <th>5</th>\n",
       "      <td>Now I am getting angry and I want my damn pho.</td>\n",
       "      <td>0</td>\n",
       "    </tr>\n",
       "    <tr>\n",
       "      <th>6</th>\n",
       "      <td>Honeslty it didn't taste THAT fresh.)</td>\n",
       "      <td>0</td>\n",
       "    </tr>\n",
       "    <tr>\n",
       "      <th>7</th>\n",
       "      <td>The potatoes were like rubber and you could te...</td>\n",
       "      <td>0</td>\n",
       "    </tr>\n",
       "    <tr>\n",
       "      <th>8</th>\n",
       "      <td>The fries were great too.</td>\n",
       "      <td>1</td>\n",
       "    </tr>\n",
       "    <tr>\n",
       "      <th>9</th>\n",
       "      <td>A great touch.</td>\n",
       "      <td>1</td>\n",
       "    </tr>\n",
       "  </tbody>\n",
       "</table>\n",
       "</div>"
      ],
      "text/plain": [
       "                                              Review  Liked\n",
       "0                           Wow... Loved this place.      1\n",
       "1                                 Crust is not good.      0\n",
       "2          Not tasty and the texture was just nasty.      0\n",
       "3  Stopped by during the late May bank holiday of...      1\n",
       "4  The selection on the menu was great and so wer...      1\n",
       "5     Now I am getting angry and I want my damn pho.      0\n",
       "6              Honeslty it didn't taste THAT fresh.)      0\n",
       "7  The potatoes were like rubber and you could te...      0\n",
       "8                          The fries were great too.      1\n",
       "9                                     A great touch.      1"
      ]
     },
     "execution_count": 267,
     "metadata": {},
     "output_type": "execute_result"
    }
   ],
   "source": [
    "DataFrame.head(10)"
   ]
  },
  {
   "cell_type": "markdown",
   "id": "c551bd22",
   "metadata": {},
   "source": [
    "STEP.3"
   ]
  },
  {
   "cell_type": "markdown",
   "id": "e9afe916",
   "metadata": {},
   "source": [
    "Show like & dislike reviews count and graph:"
   ]
  },
  {
   "cell_type": "code",
   "execution_count": 268,
   "id": "772f6fc2",
   "metadata": {},
   "outputs": [
    {
     "data": {
      "text/plain": [
       "1    500\n",
       "0    500\n",
       "Name: Liked, dtype: int64"
      ]
     },
     "execution_count": 268,
     "metadata": {},
     "output_type": "execute_result"
    }
   ],
   "source": [
    "DataFrame.Liked.value_counts()\n",
    "# By using value count:\n",
    "# we get positive review count and negative review count"
   ]
  },
  {
   "cell_type": "markdown",
   "id": "ea15b9a1",
   "metadata": {},
   "source": [
    "STEP.4"
   ]
  },
  {
   "cell_type": "markdown",
   "id": "c05a93c7",
   "metadata": {},
   "source": [
    "Cleaning the data: Remove characters \"0 9,!,@,#,$,%,^,&,*,(,),_,+,?,>,<,:,\",},{,|,\" and remove punctuation:"
   ]
  },
  {
   "cell_type": "code",
   "execution_count": 269,
   "id": "0ffcb07e",
   "metadata": {},
   "outputs": [],
   "source": [
    "# Defining a function tor clean complete dataset.\n",
    "def cleaning(text):\n",
    "    \n",
    "    text = re.sub(r'<.*?>', ' ', text)\n",
    "    text = re.sub(r\"can't\", 'can not', text)\n",
    "    text = re.sub(r\"don't\", 'do not', text)\n",
    "    text = re.sub(r\"didn't\", 'did not', text)\n",
    "    text = re.sub(r\"couldn't\", 'could not', text)\n",
    "    text = re.sub(r\"shouldn't\", 'should not', text)\n",
    "    \n",
    "    # Remove Mobile Number:\n",
    "    text = re.sub(r'[\\d]{10,12}', 'mobno', text)\n",
    "    text = re.sub(r'[^A-Za-z]', ' ', text)\n",
    "    text = re.sub(r'\\s+', ' ', text)\n",
    "    \n",
    "    return text.lower()"
   ]
  },
  {
   "cell_type": "code",
   "execution_count": 270,
   "id": "4d409b66",
   "metadata": {},
   "outputs": [
    {
     "name": "stdout",
     "output_type": "stream",
     "text": [
      "hello my name is suryansh gupta should not\n"
     ]
    }
   ],
   "source": [
    "# Test our function that it is working properly or not:\n",
    "c1 = cleaning(\"Hello!!, My Name is Suryansh @ Gupta. ?, shouldn't\")\n",
    "print(c1)"
   ]
  },
  {
   "cell_type": "code",
   "execution_count": 271,
   "id": "944b3505",
   "metadata": {},
   "outputs": [
    {
     "data": {
      "text/html": [
       "<div>\n",
       "<style scoped>\n",
       "    .dataframe tbody tr th:only-of-type {\n",
       "        vertical-align: middle;\n",
       "    }\n",
       "\n",
       "    .dataframe tbody tr th {\n",
       "        vertical-align: top;\n",
       "    }\n",
       "\n",
       "    .dataframe thead th {\n",
       "        text-align: right;\n",
       "    }\n",
       "</style>\n",
       "<table border=\"1\" class=\"dataframe\">\n",
       "  <thead>\n",
       "    <tr style=\"text-align: right;\">\n",
       "      <th></th>\n",
       "      <th>Review</th>\n",
       "      <th>Liked</th>\n",
       "    </tr>\n",
       "  </thead>\n",
       "  <tbody>\n",
       "    <tr>\n",
       "      <th>0</th>\n",
       "      <td>Wow... Loved this place.</td>\n",
       "      <td>1</td>\n",
       "    </tr>\n",
       "    <tr>\n",
       "      <th>1</th>\n",
       "      <td>Crust is not good.</td>\n",
       "      <td>0</td>\n",
       "    </tr>\n",
       "    <tr>\n",
       "      <th>2</th>\n",
       "      <td>Not tasty and the texture was just nasty.</td>\n",
       "      <td>0</td>\n",
       "    </tr>\n",
       "    <tr>\n",
       "      <th>3</th>\n",
       "      <td>Stopped by during the late May bank holiday of...</td>\n",
       "      <td>1</td>\n",
       "    </tr>\n",
       "    <tr>\n",
       "      <th>4</th>\n",
       "      <td>The selection on the menu was great and so wer...</td>\n",
       "      <td>1</td>\n",
       "    </tr>\n",
       "  </tbody>\n",
       "</table>\n",
       "</div>"
      ],
      "text/plain": [
       "                                              Review  Liked\n",
       "0                           Wow... Loved this place.      1\n",
       "1                                 Crust is not good.      0\n",
       "2          Not tasty and the texture was just nasty.      0\n",
       "3  Stopped by during the late May bank holiday of...      1\n",
       "4  The selection on the menu was great and so wer...      1"
      ]
     },
     "execution_count": 271,
     "metadata": {},
     "output_type": "execute_result"
    }
   ],
   "source": [
    "DataFrame.head(5)"
   ]
  },
  {
   "cell_type": "code",
   "execution_count": 272,
   "id": "605fd348",
   "metadata": {},
   "outputs": [],
   "source": [
    "DataFrame['Review'] = DataFrame.Review.apply(cleaning)"
   ]
  },
  {
   "cell_type": "code",
   "execution_count": 304,
   "id": "c4d75ebc",
   "metadata": {
    "scrolled": true
   },
   "outputs": [
    {
     "data": {
      "text/html": [
       "<div>\n",
       "<style scoped>\n",
       "    .dataframe tbody tr th:only-of-type {\n",
       "        vertical-align: middle;\n",
       "    }\n",
       "\n",
       "    .dataframe tbody tr th {\n",
       "        vertical-align: top;\n",
       "    }\n",
       "\n",
       "    .dataframe thead th {\n",
       "        text-align: right;\n",
       "    }\n",
       "</style>\n",
       "<table border=\"1\" class=\"dataframe\">\n",
       "  <thead>\n",
       "    <tr style=\"text-align: right;\">\n",
       "      <th></th>\n",
       "      <th>Review</th>\n",
       "      <th>Liked</th>\n",
       "    </tr>\n",
       "  </thead>\n",
       "  <tbody>\n",
       "    <tr>\n",
       "      <th>0</th>\n",
       "      <td>wow loved this place</td>\n",
       "      <td>1</td>\n",
       "    </tr>\n",
       "    <tr>\n",
       "      <th>1</th>\n",
       "      <td>crust is not good</td>\n",
       "      <td>0</td>\n",
       "    </tr>\n",
       "    <tr>\n",
       "      <th>2</th>\n",
       "      <td>not tasty and the texture was just nasty</td>\n",
       "      <td>0</td>\n",
       "    </tr>\n",
       "    <tr>\n",
       "      <th>3</th>\n",
       "      <td>stopped by during the late may bank holiday of...</td>\n",
       "      <td>1</td>\n",
       "    </tr>\n",
       "    <tr>\n",
       "      <th>4</th>\n",
       "      <td>the selection on the menu was great and so wer...</td>\n",
       "      <td>1</td>\n",
       "    </tr>\n",
       "    <tr>\n",
       "      <th>5</th>\n",
       "      <td>now i am getting angry and i want my damn pho</td>\n",
       "      <td>0</td>\n",
       "    </tr>\n",
       "    <tr>\n",
       "      <th>6</th>\n",
       "      <td>honeslty it did not taste that fresh</td>\n",
       "      <td>0</td>\n",
       "    </tr>\n",
       "    <tr>\n",
       "      <th>7</th>\n",
       "      <td>the potatoes were like rubber and you could te...</td>\n",
       "      <td>0</td>\n",
       "    </tr>\n",
       "    <tr>\n",
       "      <th>8</th>\n",
       "      <td>the fries were great too</td>\n",
       "      <td>1</td>\n",
       "    </tr>\n",
       "    <tr>\n",
       "      <th>9</th>\n",
       "      <td>a great touch</td>\n",
       "      <td>1</td>\n",
       "    </tr>\n",
       "  </tbody>\n",
       "</table>\n",
       "</div>"
      ],
      "text/plain": [
       "                                              Review  Liked\n",
       "0                              wow loved this place       1\n",
       "1                                 crust is not good       0\n",
       "2          not tasty and the texture was just nasty       0\n",
       "3  stopped by during the late may bank holiday of...      1\n",
       "4  the selection on the menu was great and so wer...      1\n",
       "5     now i am getting angry and i want my damn pho       0\n",
       "6              honeslty it did not taste that fresh       0\n",
       "7  the potatoes were like rubber and you could te...      0\n",
       "8                          the fries were great too       1\n",
       "9                                     a great touch       1"
      ]
     },
     "execution_count": 304,
     "metadata": {},
     "output_type": "execute_result"
    }
   ],
   "source": [
    "DataFrame.head(10)"
   ]
  },
  {
   "cell_type": "code",
   "execution_count": 274,
   "id": "04518e40",
   "metadata": {
    "scrolled": true
   },
   "outputs": [
    {
     "name": "stdout",
     "output_type": "stream",
     "text": [
      "Another type of cleaning the data is Fail..X\n",
      "My name is Suryansh Gupta\n"
     ]
    }
   ],
   "source": [
    "Name = 'My @name i#s Suryansh,./<>?!@#$%^&*()_+{}[]\"|:;\" Gupta.'\n",
    "New = re.sub(f'[{string.punctuation}]', '', Name)\n",
    "print('Another type of cleaning the data is Fail..X')\n",
    "print(New)"
   ]
  },
  {
   "cell_type": "markdown",
   "id": "f918b981",
   "metadata": {},
   "source": [
    "STEP.5:"
   ]
  },
  {
   "cell_type": "markdown",
   "id": "f7e758e7",
   "metadata": {},
   "source": [
    "Spliting DataFrame into { TEST,TRAIN } & Training the Model :"
   ]
  },
  {
   "cell_type": "code",
   "execution_count": 461,
   "id": "b476282f",
   "metadata": {},
   "outputs": [],
   "source": [
    "# testing data set is 20% of DataFrame.\n",
    "# training data ste is 80% of DataFrame.\n",
    "\n",
    "from sklearn.model_selection import train_test_split as TTS\n",
    "\n",
    "x_train,x_test,y_train,y_test = TTS(DataFrame['Review'].values, DataFrame['Liked'].values, test_size = .20, random_state = 1)"
   ]
  },
  {
   "cell_type": "code",
   "execution_count": 462,
   "id": "e5b25c8e",
   "metadata": {},
   "outputs": [
    {
     "data": {
      "text/plain": [
       "(800, 200, 800, 200)"
      ]
     },
     "execution_count": 462,
     "metadata": {},
     "output_type": "execute_result"
    }
   ],
   "source": [
    "len(x_train), len(x_test),len(y_train),len(y_test)"
   ]
  },
  {
   "cell_type": "code",
   "execution_count": 463,
   "id": "0727ab5d",
   "metadata": {},
   "outputs": [
    {
     "data": {
      "text/plain": [
       "array([[92, 12],\n",
       "       [16, 80]], dtype=int64)"
      ]
     },
     "execution_count": 463,
     "metadata": {},
     "output_type": "execute_result"
    }
   ],
   "source": [
    "from sklearn.feature_extraction.text import CountVectorizer\n",
    "from sklearn.linear_model import LogisticRegression\n",
    "\n",
    "CV = CountVectorizer()\n",
    "LR = LogisticRegression(solver = \"lbfgs\")\n",
    "\n",
    "from sklearn.pipeline import Pipeline\n",
    "\n",
    "Model = Pipeline([('vectorizer',CV),('classifier',LR)])\n",
    "\n",
    "Model.fit(x_train,y_train)\n",
    "\n",
    "from sklearn.metrics import confusion_matrix\n",
    "predictions = Model.predict(x_test)\n",
    "confusion_matrix(predictions,y_test)"
   ]
  },
  {
   "cell_type": "markdown",
   "id": "a1249187",
   "metadata": {},
   "source": [
    "STEP.6"
   ]
  },
  {
   "cell_type": "markdown",
   "id": "ddf11fb4",
   "metadata": {},
   "source": [
    "Model Prediction:"
   ]
  },
  {
   "cell_type": "code",
   "execution_count": 464,
   "id": "0a19961f",
   "metadata": {},
   "outputs": [
    {
     "name": "stdout",
     "output_type": "stream",
     "text": [
      "Accuracy Prediction =  0.86\n",
      "Precision           =  0.860354267310789\n",
      "Recall              =  0.86\n"
     ]
    }
   ],
   "source": [
    "from sklearn.metrics import recall_score,accuracy_score,precision_score\n",
    "\n",
    "print(\"Accuracy Prediction = \", accuracy_score(predictions,y_test))\n",
    "print(\"Precision           = \", precision_score(predictions, y_test, average = 'weighted'))\n",
    "print(\"Recall              = \", recall_score(predictions, y_test, average = 'weighted'))"
   ]
  },
  {
   "cell_type": "markdown",
   "id": "135ec3cc",
   "metadata": {},
   "source": [
    "Step.7"
   ]
  },
  {
   "cell_type": "markdown",
   "id": "f57d2c0b",
   "metadata": {},
   "source": [
    "Finally, Custom review analysis through Model & Creating GUI:"
   ]
  },
  {
   "cell_type": "code",
   "execution_count": 389,
   "id": "cc80ec03",
   "metadata": {},
   "outputs": [
    {
     "name": "stdout",
     "output_type": "stream",
     "text": [
      "[1]\n"
     ]
    }
   ],
   "source": [
    "Example = [\"@food is #$# good\"]\n",
    "Result = Model.predict(Example)\n",
    "print(Result)"
   ]
  },
  {
   "cell_type": "code",
   "execution_count": 415,
   "id": "cab5abb2",
   "metadata": {},
   "outputs": [],
   "source": [
    "from tkinter import*\n",
    "from tkinter import messagebox\n",
    "def Predict():\n",
    "    ex = lb.get(\"1.0\",END)\n",
    "    result = Model.predict([ex])\n",
    "    label = {0:\"Dislike, Customer did not Satisfied.\", 1:\"Liked, Customer is Happy.\"}\n",
    "    ab = label[result[0]]\n",
    "    lbl1.config(text = ab, fg = \"green\")\n",
    "    messagebox.showinfo(\"Result\",ab)"
   ]
  },
  {
   "cell_type": "code",
   "execution_count": 468,
   "id": "3f42841e",
   "metadata": {},
   "outputs": [],
   "source": [
    "root=Tk()\n",
    "\n",
    "root.title(\"Sentiment Analysis - Reviews Prediction\")\n",
    "\n",
    "lbl = Label(text = \"Sentiment Analysis\", fg = \"red\", bg = \"white\", font = (\"georgia\",20))\n",
    "lbl.pack()\n",
    "\n",
    "lbl1 = Label(bg = \"white\", font = (\"georgia\", 20))\n",
    "lbl1.pack()\n",
    "\n",
    "lb = Text(root,)\n",
    "lb.pack(pady=3)\n",
    "\n",
    "btn = Button(root, bg=\"green\", fg=\"white\", text=\"Prediction\", height=5, command = Predict)\n",
    "btn.pack(fill = \"x\", pady = 3)\n",
    "\n",
    "root.mainloop()"
   ]
  },
  {
   "cell_type": "code",
   "execution_count": null,
   "id": "6354dad6",
   "metadata": {},
   "outputs": [],
   "source": []
  },
  {
   "cell_type": "code",
   "execution_count": null,
   "id": "06d35a65",
   "metadata": {},
   "outputs": [],
   "source": []
  }
 ],
 "metadata": {
  "kernelspec": {
   "display_name": "Python 3 (ipykernel)",
   "language": "python",
   "name": "python3"
  },
  "language_info": {
   "codemirror_mode": {
    "name": "ipython",
    "version": 3
   },
   "file_extension": ".py",
   "mimetype": "text/x-python",
   "name": "python",
   "nbconvert_exporter": "python",
   "pygments_lexer": "ipython3",
   "version": "3.9.5"
  }
 },
 "nbformat": 4,
 "nbformat_minor": 5
}
